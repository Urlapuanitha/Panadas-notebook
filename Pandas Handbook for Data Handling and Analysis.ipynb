{
 "cells": [
  {
   "cell_type": "markdown",
   "id": "5ab70910-baea-4745-b23a-eae5395d98cb",
   "metadata": {},
   "source": [
    "**Introduction to Pandas**\n",
    "\n",
    "Pandas is a powerful Python library used for data manipulation and analysis. It provides data structures and functions designed to work with structured data seamlessly.\n",
    "\n",
    "Key Features:\n",
    "\n",
    "Efficient handling of structured data. Integrated tools for reading and writing data. Data alignment and integrated handling of missing data."
   ]
  },
  {
   "cell_type": "code",
   "execution_count": null,
   "id": "c9c219d5-e033-4145-bc7e-8829c55f5cf6",
   "metadata": {},
   "outputs": [],
   "source": [
    "**Getting Started with Pandas**\n",
    "\n",
    "To use Pandas, you need to install it first:"
   ]
  },
  {
   "cell_type": "code",
   "execution_count": null,
   "id": "9a63d03a-5b55-465b-8b69-582e5abeff01",
   "metadata": {},
   "outputs": [],
   "source": [
    "pip install pandas"
   ]
  },
  {
   "cell_type": "markdown",
   "id": "8277df73-b157-4d1d-a054-a3f7335c0616",
   "metadata": {},
   "source": [
    "**Import Pandas in your Python script**:"
   ]
  },
  {
   "cell_type": "code",
   "execution_count": 3,
   "id": "8973a857-c2a4-4ab4-97fc-d21a2e2f4657",
   "metadata": {},
   "outputs": [],
   "source": [
    "import pandas as pd"
   ]
  },
  {
   "cell_type": "code",
   "execution_count": null,
   "id": "e94ff94c-43d6-4ca8-aa44-b59f9327374e",
   "metadata": {},
   "outputs": [],
   "source": [
    "**Creating Data Structures**\n",
    "\n",
    "Series: A Series is a one-dimensional labeled array."
   ]
  },
  {
   "cell_type": "code",
   "execution_count": 4,
   "id": "4d6940bb-3549-4a18-be4f-72c1130fd941",
   "metadata": {},
   "outputs": [],
   "source": [
    "data = pd.Series([1, 2, 3, 4], index=['a', 'b', 'c', 'd'])"
   ]
  },
  {
   "cell_type": "markdown",
   "id": "5ee9f21f-cff6-432f-9efa-37a824e54f88",
   "metadata": {},
   "source": [
    "**DataFrame**:\n",
    "\n",
    "A DataFrame is a two-dimensional labeled data structure."
   ]
  },
  {
   "cell_type": "code",
   "execution_count": 5,
   "id": "58081dbd-eb92-48a9-b0b7-6e11a1709696",
   "metadata": {},
   "outputs": [],
   "source": [
    "data = {'Name': ['John', 'Anna', 'Peter'],\n",
    "        'Age': [28, 24, 35],\n",
    "        'City': ['New York', 'Paris', 'Berlin']}\n",
    "df = pd.DataFrame(data)\n"
   ]
  },
  {
   "cell_type": "markdown",
   "id": "6f2c8b14-7779-434d-8835-b0e47ff5be21",
   "metadata": {},
   "source": [
    "**Basic Operations Selection and Filtering**:"
   ]
  },
  {
   "cell_type": "code",
   "execution_count": 6,
   "id": "c9c812a6-d268-471f-80eb-aa8b3b16ec8d",
   "metadata": {},
   "outputs": [],
   "source": [
    "# Selecting a column\n",
    "ages = df['Age']\n",
    "\n",
    "# Filtering rows\n",
    "filtered_df = df[df['Age'] > 25]"
   ]
  },
  {
   "cell_type": "markdown",
   "id": "522010df-48f9-4804-951f-77e7e254184a",
   "metadata": {},
   "source": [
    "**Adding/Removing Columns**:"
   ]
  },
  {
   "cell_type": "code",
   "execution_count": 7,
   "id": "6983891c-6342-49bc-86e2-e3a419dc2b4e",
   "metadata": {},
   "outputs": [],
   "source": [
    "# Adding a new column\n",
    "df['Salary'] = [50000, 60000, 70000]\n",
    "\n",
    "# Dropping a column\n",
    "df = df.drop('City', axis=1)\n"
   ]
  },
  {
   "cell_type": "markdown",
   "id": "bf35ac80-b0e3-4a99-aba4-1a8d85bf495c",
   "metadata": {},
   "source": [
    "**Data Analysis with Pandas Descriptive Statistics**:"
   ]
  },
  {
   "cell_type": "code",
   "execution_count": 8,
   "id": "f7a92262-4810-4bc0-9c28-977550d21c3a",
   "metadata": {},
   "outputs": [],
   "source": [
    "# Summary statistics\n",
    "summary = df.describe()\n",
    "\n",
    "# Mean, median, mode\n",
    "mean_age = df['Age'].mean()"
   ]
  },
  {
   "cell_type": "markdown",
   "id": "7c44480f-ebf3-4fe6-8410-400bd0b9876e",
   "metadata": {},
   "source": [
    "**Grouping Data**:"
   ]
  },
  {
   "cell_type": "code",
   "execution_count": 9,
   "id": "cd7196f8-483c-435e-8c0b-0d5a4078e83c",
   "metadata": {},
   "outputs": [
    {
     "name": "stdout",
     "output_type": "stream",
     "text": [
      "      Salary\n",
      "Age         \n",
      "24   60000.0\n",
      "28   65000.0\n",
      "35   70000.0\n"
     ]
    }
   ],
   "source": [
    "import pandas as pd\n",
    "\n",
    "# Sample DataFrame\n",
    "data = {'Name': ['John', 'Anna', 'Peter', 'Linda'],\n",
    "        'Age': [28, 24, 35, 28],\n",
    "        'Salary': [50000, 60000, 70000, 80000]}\n",
    "\n",
    "df = pd.DataFrame(data)\n",
    "\n",
    "# Group by 'Age' and calculate the mean of numeric columns only\n",
    "grouped = df.groupby('Age').mean(numeric_only=True)\n",
    "\n",
    "print(grouped)\n"
   ]
  },
  {
   "cell_type": "markdown",
   "id": "9f233a80-e377-4126-bd67-23389bcc665d",
   "metadata": {},
   "source": [
    "**Handling Missing Data Pandas offers robust ways to handle missing data**:\n",
    "\n",
    "Checking for missing data:"
   ]
  },
  {
   "cell_type": "code",
   "execution_count": 12,
   "id": "5e5a4acc-2fff-490b-8020-1f9b46922f0c",
   "metadata": {},
   "outputs": [],
   "source": [
    "missing_data = df.isnull()"
   ]
  },
  {
   "cell_type": "markdown",
   "id": "017ae5ba-2618-4b3b-98bc-9fcab83cacd9",
   "metadata": {},
   "source": [
    "**Filling missing data**:"
   ]
  },
  {
   "cell_type": "code",
   "execution_count": 22,
   "id": "bc897a81-736f-46bb-ae93-df86d79c4b9f",
   "metadata": {},
   "outputs": [],
   "source": [
    "df.fillna({'Salary': 0}, inplace=True)"
   ]
  },
  {
   "cell_type": "markdown",
   "id": "663d45ea-0a31-4aef-a097-712da58ca114",
   "metadata": {},
   "source": [
    "**Dropping missing data**:"
   ]
  },
  {
   "cell_type": "code",
   "execution_count": 23,
   "id": "65cc6780-714b-4314-928a-c021ce607071",
   "metadata": {},
   "outputs": [],
   "source": [
    "df.dropna(inplace=True)"
   ]
  },
  {
   "cell_type": "markdown",
   "id": "78c18dac-31b2-4899-ae85-0300c385593a",
   "metadata": {},
   "source": [
    "**Merging and Concatenation Pandas allows you to combine data from multiple DataFrames**:\n",
    "\n",
    "Merging:"
   ]
  },
  {
   "cell_type": "code",
   "execution_count": 24,
   "id": "55a4eddc-b480-457b-b190-fa918ed374db",
   "metadata": {},
   "outputs": [],
   "source": [
    "df1 = pd.DataFrame({'key': ['A', 'B', 'C'], 'value1': [1, 2, 3]})\n",
    "df2 = pd.DataFrame({'key': ['A', 'B', 'D'], 'value2': [4, 5, 6]})\n",
    "merged_df = pd.merge(df1, df2, on='key')\n"
   ]
  },
  {
   "cell_type": "markdown",
   "id": "bab1e124-6593-4c1f-a306-b64b3c5cbe07",
   "metadata": {},
   "source": [
    "**Concatenation**:"
   ]
  },
  {
   "cell_type": "code",
   "execution_count": 25,
   "id": "06918e3c-cf76-42e0-9c09-93623a9c308c",
   "metadata": {},
   "outputs": [],
   "source": [
    "concat_df = pd.concat([df1, df2])"
   ]
  },
  {
   "cell_type": "markdown",
   "id": "38dabbd1-c921-4b6c-975e-f3bc14cd6b99",
   "metadata": {},
   "source": [
    "Example Program:\n",
    "\n",
    "Handle and Analyze Data Here's an example program that demonstrates data handling and analysis using Pandas:"
   ]
  },
  {
   "cell_type": "code",
   "execution_count": 27,
   "id": "ad792b72-d7fe-424e-8565-42eb3ccd3570",
   "metadata": {},
   "outputs": [
    {
     "name": "stdout",
     "output_type": "stream",
     "text": [
      "Original DataFrame:\n",
      "     Name  Age      City   Salary\n",
      "0   John   28  New York  50000.0\n",
      "1   Anna   24     Paris  60000.0\n",
      "2  Peter   35    Berlin  70000.0\n",
      "3  Linda   32    London  60000.0\n",
      "\n",
      "Grouped DataFrame:\n",
      "            Age   Salary\n",
      "City                   \n",
      "Berlin    35.0  70000.0\n",
      "London    32.0  60000.0\n",
      "New York  28.0  50000.0\n",
      "Paris     24.0  60000.0\n"
     ]
    }
   ],
   "source": [
    "import pandas as pd\n",
    "\n",
    "# Create a sample DataFrame\n",
    "data = {'Name': ['John', 'Anna', 'Peter', 'Linda'],\n",
    "        'Age': [28, 24, 35, 32],\n",
    "        'City': ['New York', 'Paris', 'Berlin', 'London'],\n",
    "        'Salary': [50000, 60000, 70000, None]}\n",
    "\n",
    "df = pd.DataFrame(data)\n",
    "\n",
    "# Fill missing salary with the mean salary\n",
    "df.fillna({'Salary': df['Salary'].mean()}, inplace=True)\n",
    "\n",
    "# Group by City and calculate the average age and salary\n",
    "grouped_df = df.groupby('City')[['Age', 'Salary']].mean()\n",
    "\n",
    "# Display the original DataFrame and the grouped DataFrame\n",
    "print(\"Original DataFrame:\\n\", df)\n",
    "print(\"\\nGrouped DataFrame:\\n\", grouped_df)\n"
   ]
  },
  {
   "cell_type": "markdown",
   "id": "a90bdb85-fd1f-41a5-a900-b84951eeed21",
   "metadata": {},
   "source": [
    "**Conclusion**\n",
    "\n",
    "Pandas is a crucial library for data manipulation and analysis in Python. By mastering its features, you can efficiently handle and analyze large datasets, making it a must-learn tool for data science and analysis."
   ]
  }
 ],
 "metadata": {
  "kernelspec": {
   "display_name": "Python 3 (ipykernel)",
   "language": "python",
   "name": "python3"
  },
  "language_info": {
   "codemirror_mode": {
    "name": "ipython",
    "version": 3
   },
   "file_extension": ".py",
   "mimetype": "text/x-python",
   "name": "python",
   "nbconvert_exporter": "python",
   "pygments_lexer": "ipython3",
   "version": "3.12.4"
  }
 },
 "nbformat": 4,
 "nbformat_minor": 5
}
