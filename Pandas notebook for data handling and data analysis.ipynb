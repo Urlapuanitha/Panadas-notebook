{
 "cells": [
  {
   "cell_type": "markdown",
   "id": "67c157a4-ee80-4262-9b1d-e398a2c9183f",
   "metadata": {},
   "source": [
    "Here's a comprehensive Jupyter notebook designed to help you get familiar with Pandas, handle and analyze data, and understand its application in data science. The notebook is structured according to your instructions, with sections on getting started with Pandas, data handling, data analysis, and the role of Pandas in data science."
   ]
  },
  {
   "cell_type": "markdown",
   "id": "87f275f0-deef-4cd6-acd8-31de5019ed16",
   "metadata": {},
   "source": [
    " **Introduction to Pandas and Data Handling in Python**"
   ]
  },
  {
   "cell_type": "markdown",
   "id": "3fb00819-3bdb-4dc4-94ae-40817a4b348a",
   "metadata": {},
   "source": [
    "1.**Getting Familiar with Pandas**"
   ]
  },
  {
   "cell_type": "markdown",
   "id": "f000c57f-1ede-47a0-8625-9ab205ea35a4",
   "metadata": {},
   "source": [
    "1.1 **Introduction to Pandas**"
   ]
  },
  {
   "cell_type": "markdown",
   "id": "a7131588-d3f2-40a9-86b5-cbc5070ec1a7",
   "metadata": {},
   "source": [
    "Pandas is a powerful library for data manipulation and analysis in Python. It provides two primary data structures:\n",
    "- **Series**: A one-dimensional labeled array capable of holding any data type.\n",
    "- **DataFrame**: A two-dimensional labeled data structure with columns of potentially different types.\n"
   ]
  },
  {
   "cell_type": "markdown",
   "id": "eaaf5d21-9603-43ca-aca1-d10968bbc09b",
   "metadata": {},
   "source": [
    "1.2 **Creating Series and DataFrames**"
   ]
  },
  {
   "cell_type": "code",
   "execution_count": 12,
   "id": "243b29e1-bac6-4d84-b5f8-d121b3c2e8f8",
   "metadata": {},
   "outputs": [],
   "source": [
    "import pandas as pd"
   ]
  },
  {
   "cell_type": "markdown",
   "id": "ec9479d5-86d2-4c93-999d-24d6d82cfcc5",
   "metadata": {},
   "source": [
    "**Creating a Series**"
   ]
  },
  {
   "cell_type": "code",
   "execution_count": 13,
   "id": "72ecda60-c546-4ba6-8fe9-aad42fa7e8c9",
   "metadata": {},
   "outputs": [
    {
     "name": "stdout",
     "output_type": "stream",
     "text": [
      "Series:\n",
      " 0    10\n",
      "1    20\n",
      "2    30\n",
      "3    40\n",
      "4    50\n",
      "dtype: int64\n"
     ]
    }
   ],
   "source": [
    "data = [10, 20, 30, 40, 50]\n",
    "series = pd.Series(data)\n",
    "print(\"Series:\\n\", series)"
   ]
  },
  {
   "cell_type": "markdown",
   "id": "547fd4c6-97e0-4cb4-8fa8-e48ff4c647e5",
   "metadata": {},
   "source": [
    "**Creating a DataFrame from a dictionary**"
   ]
  },
  {
   "cell_type": "code",
   "execution_count": 14,
   "id": "12a5469c-a2bf-4078-bc58-de2ef1b623f5",
   "metadata": {},
   "outputs": [
    {
     "name": "stdout",
     "output_type": "stream",
     "text": [
      "\n",
      "DataFrame:\n",
      "       Name  Age         City\n",
      "0    Alice   24     New York\n",
      "1      Bob   27  Los Angeles\n",
      "2  Charlie   22      Chicago\n",
      "3    David   32      Houston\n"
     ]
    }
   ],
   "source": [
    "data = {\n",
    "    'Name': ['Alice', 'Bob', 'Charlie', 'David'],\n",
    "    'Age': [24, 27, 22, 32],\n",
    "    'City': ['New York', 'Los Angeles', 'Chicago', 'Houston']\n",
    "}\n",
    "df = pd.DataFrame(data)\n",
    "print(\"\\nDataFrame:\\n\", df)"
   ]
  },
  {
   "cell_type": "markdown",
   "id": "6e1dc857-1c5f-4383-a68a-ef987ac719f1",
   "metadata": {},
   "source": [
    "1.3 **Basic Operations**"
   ]
  },
  {
   "cell_type": "code",
   "execution_count": 15,
   "id": "5ad77383-0981-4268-97a7-cf08c1b4b598",
   "metadata": {},
   "outputs": [
    {
     "name": "stdout",
     "output_type": "stream",
     "text": [
      "\n",
      "Select 'Name' column:\n",
      " 0      Alice\n",
      "1        Bob\n",
      "2    Charlie\n",
      "3      David\n",
      "Name: Name, dtype: object\n",
      "\n",
      "Filter rows where Age > 25:\n",
      "     Name  Age         City\n",
      "1    Bob   27  Los Angeles\n",
      "3  David   32      Houston\n",
      "\n",
      "DataFrame with modified Age:\n",
      "       Name  Age         City\n",
      "0    Alice   25     New York\n",
      "1      Bob   28  Los Angeles\n",
      "2  Charlie   23      Chicago\n",
      "3    David   33      Houston\n"
     ]
    }
   ],
   "source": [
    "# Selecting a column\n",
    "print(\"\\nSelect 'Name' column:\\n\", df['Name'])\n",
    "\n",
    "# Filtering rows\n",
    "print(\"\\nFilter rows where Age > 25:\\n\", df[df['Age'] > 25])\n",
    "\n",
    "# Modifying data\n",
    "df['Age'] = df['Age'] + 1\n",
    "print(\"\\nDataFrame with modified Age:\\n\", df)"
   ]
  },
  {
   "cell_type": "markdown",
   "id": "3862f763-c123-4f46-8618-3c75860969dd",
   "metadata": {},
   "source": [
    "2. **Data Handling with Pandas**"
   ]
  },
  {
   "cell_type": "markdown",
   "id": "c280e400-1ec7-46e7-98d5-70478fe4689d",
   "metadata": {},
   "source": [
    "2.1 **Reading Data from Files**"
   ]
  },
  {
   "cell_type": "code",
   "execution_count": 16,
   "id": "7bc3133f-6da9-4579-8a59-b71f81ba6ec3",
   "metadata": {},
   "outputs": [
    {
     "name": "stdout",
     "output_type": "stream",
     "text": [
      "Data from CSV:\n",
      "    Month  Sales  PromExp  Price  AdExp\n",
      "0      1  73959    61.13   8.75  50.04\n",
      "1      2  71544    60.19   8.99  50.74\n",
      "2      3  78587    59.16   7.50  50.14\n",
      "3      4  80364    60.38   7.25  50.27\n",
      "4      5  78771    59.71   7.40  51.25\n"
     ]
    }
   ],
   "source": [
    "# Reading a CSV file\n",
    "df = pd.read_csv('Toy-Sales-dataset.csv')\n",
    "print(\"Data from CSV:\\n\", df.head())"
   ]
  },
  {
   "cell_type": "markdown",
   "id": "f245703d-22c9-4bf1-80f6-19422b149372",
   "metadata": {},
   "source": [
    "2.2 **Handling Missing Data**"
   ]
  },
  {
   "cell_type": "code",
   "execution_count": 17,
   "id": "6474395c-76a9-431d-a10b-ab9d100d676a",
   "metadata": {},
   "outputs": [
    {
     "name": "stdout",
     "output_type": "stream",
     "text": [
      "\n",
      "DataFrame with missing values handled:\n",
      "     Month  Sales  PromExp  Price  AdExp\n",
      "0       1  73959    61.13   8.75  50.04\n",
      "1       2  71544    60.19   8.99  50.74\n",
      "2       3  78587    59.16   7.50  50.14\n",
      "3       4  80364    60.38   7.25  50.27\n",
      "4       5  78771    59.71   7.40  51.25\n",
      "5       6  71986    59.88   8.50  50.65\n",
      "6       7  74885    60.14   8.40  50.87\n",
      "7       8  73345    60.08   7.90  50.15\n",
      "8       9  76659    59.90   7.25  48.24\n",
      "9      10  71880    59.68   8.70  50.19\n",
      "10     11  73598    59.83   8.40  51.11\n",
      "11     12  74893    59.77   8.10  51.49\n",
      "12     13  69003    59.29   8.40  50.10\n",
      "13     14  78542    60.40   7.40  49.24\n",
      "14     15  72543    59.89   8.00  50.04\n",
      "15     16  74247    60.06   8.30  49.46\n",
      "16     17  76253    60.51   8.10  51.62\n",
      "17     18  72582    58.93   8.20  49.78\n",
      "18     19  69022    60.09   8.99  48.60\n",
      "19     20  76200    61.00   7.99  49.00\n",
      "20     21  69701    59.00   8.50  48.00\n",
      "21     22  77005    59.50   7.90  54.00\n",
      "22     23  70987    58.00   7.99  48.70\n",
      "23     24  75643    60.50   8.25  50.00\n",
      "\n",
      "DataFrame with duplicates removed:\n",
      "     Month  Sales  PromExp  Price  AdExp\n",
      "0       1  73959    61.13   8.75  50.04\n",
      "1       2  71544    60.19   8.99  50.74\n",
      "2       3  78587    59.16   7.50  50.14\n",
      "3       4  80364    60.38   7.25  50.27\n",
      "4       5  78771    59.71   7.40  51.25\n",
      "5       6  71986    59.88   8.50  50.65\n",
      "6       7  74885    60.14   8.40  50.87\n",
      "7       8  73345    60.08   7.90  50.15\n",
      "8       9  76659    59.90   7.25  48.24\n",
      "9      10  71880    59.68   8.70  50.19\n",
      "10     11  73598    59.83   8.40  51.11\n",
      "11     12  74893    59.77   8.10  51.49\n",
      "12     13  69003    59.29   8.40  50.10\n",
      "13     14  78542    60.40   7.40  49.24\n",
      "14     15  72543    59.89   8.00  50.04\n",
      "15     16  74247    60.06   8.30  49.46\n",
      "16     17  76253    60.51   8.10  51.62\n",
      "17     18  72582    58.93   8.20  49.78\n",
      "18     19  69022    60.09   8.99  48.60\n",
      "19     20  76200    61.00   7.99  49.00\n",
      "20     21  69701    59.00   8.50  48.00\n",
      "21     22  77005    59.50   7.90  54.00\n",
      "22     23  70987    58.00   7.99  48.70\n",
      "23     24  75643    60.50   8.25  50.00\n"
     ]
    }
   ],
   "source": [
    "# Handling missing values\n",
    "df.ffill()  # Forward fill\n",
    "print(\"\\nDataFrame with missing values handled:\\n\", df)\n",
    "\n",
    "# Removing duplicates\n",
    "df = df.drop_duplicates()\n",
    "print(\"\\nDataFrame with duplicates removed:\\n\", df)\n"
   ]
  },
  {
   "cell_type": "markdown",
   "id": "32aba032-12c8-4d82-9bd6-c4b821b3e00b",
   "metadata": {},
   "source": [
    "2.3 **Data Type Conversions**"
   ]
  },
  {
   "cell_type": "code",
   "execution_count": 18,
   "id": "208c1661-d825-4d2f-99fe-f9fa38198056",
   "metadata": {},
   "outputs": [
    {
     "name": "stdout",
     "output_type": "stream",
     "text": [
      "\n",
      "DataFrame with Price as float:\n",
      " Month        int64\n",
      "Sales        int64\n",
      "PromExp    float64\n",
      "Price      float64\n",
      "AdExp      float64\n",
      "dtype: object\n"
     ]
    }
   ],
   "source": [
    "# Converting data types\n",
    "df['Price'] = df['Price'].astype(float)\n",
    "print(\"\\nDataFrame with Price as float:\\n\", df.dtypes)\n"
   ]
  },
  {
   "cell_type": "markdown",
   "id": "d4bc203e-a035-4ab9-b4f9-36985ec6df22",
   "metadata": {},
   "source": [
    "3. **Data Analysis with Pandas**"
   ]
  },
  {
   "cell_type": "markdown",
   "id": "fe55f2c2-b04f-4274-a80b-37cfac198457",
   "metadata": {},
   "source": [
    "3.1 **Generating Summary Statistics**"
   ]
  },
  {
   "cell_type": "code",
   "execution_count": 19,
   "id": "0f63a70a-533b-4b90-b67b-227ce1cfe353",
   "metadata": {},
   "outputs": [
    {
     "name": "stdout",
     "output_type": "stream",
     "text": [
      "\n",
      "Summary statistics:\n",
      "            Month         Sales    PromExp      Price      AdExp\n",
      "count  24.000000     24.000000  24.000000  24.000000  24.000000\n",
      "mean   12.500000  74258.291667  59.875833   8.131667  50.153333\n",
      "std     7.071068   3164.394612   0.682215   0.506666   1.279119\n",
      "min     1.000000  69003.000000  58.000000   7.250000  48.000000\n",
      "25%     6.750000  71959.500000  59.635000   7.900000  49.405000\n",
      "50%    12.500000  74103.000000  59.895000   8.150000  50.120000\n",
      "75%    18.250000  76354.500000  60.237500   8.425000  50.772500\n",
      "max    24.000000  80364.000000  61.130000   8.990000  54.000000\n"
     ]
    }
   ],
   "source": [
    "# Summary statistics\n",
    "print(\"\\nSummary statistics:\\n\", df.describe())\n"
   ]
  },
  {
   "cell_type": "markdown",
   "id": "d17cd9e1-785c-4a4b-9d61-8064c2bca25d",
   "metadata": {},
   "source": [
    "3.2 **Grouping and Aggregating Data**"
   ]
  },
  {
   "cell_type": "code",
   "execution_count": 20,
   "id": "874ef5cb-1d7e-436b-a0c3-d3502fc38fcf",
   "metadata": {},
   "outputs": [
    {
     "name": "stdout",
     "output_type": "stream",
     "text": [
      "\n",
      "Grouped data by 'Sales':\n",
      "        Month  PromExp  Price  AdExp\n",
      "Sales                              \n",
      "69003   13.0    59.29   8.40  50.10\n",
      "69022   19.0    60.09   8.99  48.60\n",
      "69701   21.0    59.00   8.50  48.00\n",
      "70987   23.0    58.00   7.99  48.70\n",
      "71544    2.0    60.19   8.99  50.74\n",
      "71880   10.0    59.68   8.70  50.19\n",
      "71986    6.0    59.88   8.50  50.65\n",
      "72543   15.0    59.89   8.00  50.04\n",
      "72582   18.0    58.93   8.20  49.78\n",
      "73345    8.0    60.08   7.90  50.15\n",
      "73598   11.0    59.83   8.40  51.11\n",
      "73959    1.0    61.13   8.75  50.04\n",
      "74247   16.0    60.06   8.30  49.46\n",
      "74885    7.0    60.14   8.40  50.87\n",
      "74893   12.0    59.77   8.10  51.49\n",
      "75643   24.0    60.50   8.25  50.00\n",
      "76200   20.0    61.00   7.99  49.00\n",
      "76253   17.0    60.51   8.10  51.62\n",
      "76659    9.0    59.90   7.25  48.24\n",
      "77005   22.0    59.50   7.90  54.00\n",
      "78542   14.0    60.40   7.40  49.24\n",
      "78587    3.0    59.16   7.50  50.14\n",
      "78771    5.0    59.71   7.40  51.25\n",
      "80364    4.0    60.38   7.25  50.27\n"
     ]
    }
   ],
   "source": [
    "# Grouping and aggregating\n",
    "grouped = df.groupby('Sales').mean()\n",
    "print(\"\\nGrouped data by 'Sales':\\n\", grouped)\n"
   ]
  },
  {
   "cell_type": "markdown",
   "id": "bb5df371-7cfa-4886-b943-8561bd8c810a",
   "metadata": {},
   "source": [
    "3.3 **Merging, Joining, and Concatenating**"
   ]
  },
  {
   "cell_type": "code",
   "execution_count": 21,
   "id": "8e73aa3f-6161-4c5e-808c-e28d3640376c",
   "metadata": {},
   "outputs": [
    {
     "name": "stdout",
     "output_type": "stream",
     "text": [
      "\n",
      "Merged DataFrame:\n",
      "    ID  Value_left  Value_right\n",
      "0   1         100          300\n",
      "1   2         200          400\n"
     ]
    }
   ],
   "source": [
    "# Merging DataFrames\n",
    "df1 = pd.DataFrame({'ID': [1, 2], 'Value': [100, 200]})\n",
    "df2 = pd.DataFrame({'ID': [1, 2], 'Value': [300, 400]})\n",
    "merged_df = pd.merge(df1, df2, on='ID', suffixes=('_left', '_right'))\n",
    "print(\"\\nMerged DataFrame:\\n\", merged_df)\n"
   ]
  },
  {
   "cell_type": "markdown",
   "id": "faaa1a37-475b-4b3d-adcd-3766cb7d828c",
   "metadata": {},
   "source": [
    "4. **Application in Data Science**"
   ]
  },
  {
   "cell_type": "markdown",
   "id": "887fbd71-0092-4f98-ad5e-ad8b9619e8dd",
   "metadata": {},
   "source": [
    "4.1 **Advantages of Pandas**\n",
    "Ease of Use: Pandas provides a simple and intuitive interface for working with data.\n",
    "Efficiency: Operations on DataFrames and Series are optimized for performance.\n",
    "Flexibility: Supports various data formats and sources."
   ]
  },
  {
   "cell_type": "markdown",
   "id": "1a5c6d24-2952-44c1-99a8-e0e4d7182b7f",
   "metadata": {},
   "source": [
    "4.2 **Real-World Examples**\n",
    "Data Cleaning: Handling missing values, filtering data, and removing duplicates are common tasks in data preprocessing.\n",
    "Exploratory Data Analysis (EDA): Generating summary statistics and visualizing data helps in understanding trends and patterns."
   ]
  },
  {
   "cell_type": "markdown",
   "id": "03303618-904a-4b57-98be-7b4621aaf251",
   "metadata": {},
   "source": [
    "Pandas is essential in data science for its ability to efficiently handle large datasets and perform complex data manipulations with ease."
   ]
  },
  {
   "cell_type": "code",
   "execution_count": null,
   "id": "cf58bebc-15d7-43c1-b58f-1c273ba53bd6",
   "metadata": {},
   "outputs": [],
   "source": []
  }
 ],
 "metadata": {
  "kernelspec": {
   "display_name": "Python 3 (ipykernel)",
   "language": "python",
   "name": "python3"
  },
  "language_info": {
   "codemirror_mode": {
    "name": "ipython",
    "version": 3
   },
   "file_extension": ".py",
   "mimetype": "text/x-python",
   "name": "python",
   "nbconvert_exporter": "python",
   "pygments_lexer": "ipython3",
   "version": "3.12.4"
  }
 },
 "nbformat": 4,
 "nbformat_minor": 5
}
